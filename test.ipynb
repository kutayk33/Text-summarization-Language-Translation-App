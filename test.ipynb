{
 "metadata": {
  "language_info": {
   "codemirror_mode": {
    "name": "ipython",
    "version": 3
   },
   "file_extension": ".py",
   "mimetype": "text/x-python",
   "name": "python",
   "nbconvert_exporter": "python",
   "pygments_lexer": "ipython3",
   "version": "3.8.3-final"
  },
  "orig_nbformat": 2,
  "kernelspec": {
   "name": "python3",
   "display_name": "Python 3",
   "language": "python"
  }
 },
 "nbformat": 4,
 "nbformat_minor": 2,
 "cells": [
  {
   "cell_type": "code",
   "execution_count": 13,
   "metadata": {},
   "outputs": [
    {
     "output_type": "stream",
     "name": "stdout",
     "text": [
      "Collecting bert-extractive-summarizer\n",
      "  Using cached bert_extractive_summarizer-0.6.1-py3-none-any.whl (17 kB)\n",
      "Requirement already satisfied: transformers in c:\\users\\utilisateur\\anaconda3\\lib\\site-packages (from bert-extractive-summarizer) (2.2.2)\n",
      "Requirement already satisfied: spacy in c:\\users\\utilisateur\\anaconda3\\lib\\site-packages (from bert-extractive-summarizer) (2.3.5)\n",
      "Requirement already satisfied: scikit-learn in c:\\users\\utilisateur\\anaconda3\\lib\\site-packages (from bert-extractive-summarizer) (0.23.2)\n",
      "Requirement already satisfied: numpy>=1.13.3 in c:\\users\\utilisateur\\anaconda3\\lib\\site-packages (from scikit-learn->bert-extractive-summarizer) (1.19.2)\n",
      "Requirement already satisfied: scipy>=0.19.1 in c:\\users\\utilisateur\\anaconda3\\lib\\site-packages (from scikit-learn->bert-extractive-summarizer) (1.5.2)\n",
      "Requirement already satisfied: threadpoolctl>=2.0.0 in c:\\users\\utilisateur\\anaconda3\\lib\\site-packages (from scikit-learn->bert-extractive-summarizer) (2.1.0)\n",
      "Requirement already satisfied: joblib>=0.11 in c:\\users\\utilisateur\\anaconda3\\lib\\site-packages (from scikit-learn->bert-extractive-summarizer) (0.17.0)\n",
      "Requirement already satisfied: thinc<7.5.0,>=7.4.1 in c:\\users\\utilisateur\\anaconda3\\lib\\site-packages (from spacy->bert-extractive-summarizer) (7.4.5)\n",
      "Requirement already satisfied: preshed<3.1.0,>=3.0.2 in c:\\users\\utilisateur\\anaconda3\\lib\\site-packages (from spacy->bert-extractive-summarizer) (3.0.5)\n",
      "Requirement already satisfied: requests<3.0.0,>=2.13.0 in c:\\users\\utilisateur\\anaconda3\\lib\\site-packages (from spacy->bert-extractive-summarizer) (2.24.0)\n",
      "Requirement already satisfied: blis<0.8.0,>=0.4.0 in c:\\users\\utilisateur\\anaconda3\\lib\\site-packages (from spacy->bert-extractive-summarizer) (0.7.4)\n",
      "Requirement already satisfied: setuptools in c:\\users\\utilisateur\\anaconda3\\lib\\site-packages (from spacy->bert-extractive-summarizer) (52.0.0)\n",
      "Requirement already satisfied: tqdm<5.0.0,>=4.38.0 in c:\\users\\utilisateur\\anaconda3\\lib\\site-packages (from spacy->bert-extractive-summarizer) (4.51.0)\n",
      "Requirement already satisfied: murmurhash<1.1.0,>=0.28.0 in c:\\users\\utilisateur\\anaconda3\\lib\\site-packages (from spacy->bert-extractive-summarizer) (1.0.5)\n",
      "Requirement already satisfied: srsly<1.1.0,>=1.0.2 in c:\\users\\utilisateur\\anaconda3\\lib\\site-packages (from spacy->bert-extractive-summarizer) (1.0.5)\n",
      "Requirement already satisfied: cymem<2.1.0,>=2.0.2 in c:\\users\\utilisateur\\anaconda3\\lib\\site-packages (from spacy->bert-extractive-summarizer) (2.0.5)\n",
      "Requirement already satisfied: catalogue<1.1.0,>=0.0.7 in c:\\users\\utilisateur\\anaconda3\\lib\\site-packages (from spacy->bert-extractive-summarizer) (1.0.0)\n",
      "Requirement already satisfied: plac<1.2.0,>=0.9.6 in c:\\users\\utilisateur\\anaconda3\\lib\\site-packages (from spacy->bert-extractive-summarizer) (1.1.3)\n",
      "Requirement already satisfied: wasabi<1.1.0,>=0.4.0 in c:\\users\\utilisateur\\anaconda3\\lib\\site-packages (from spacy->bert-extractive-summarizer) (0.8.0)\n",
      "Requirement already satisfied: urllib3!=1.25.0,!=1.25.1,<1.26,>=1.21.1 in c:\\users\\utilisateur\\anaconda3\\lib\\site-packages (from requests<3.0.0,>=2.13.0->spacy->bert-extractive-summarizer) (1.25.11)\n",
      "Requirement already satisfied: certifi>=2017.4.17 in c:\\users\\utilisateur\\anaconda3\\lib\\site-packages (from requests<3.0.0,>=2.13.0->spacy->bert-extractive-summarizer) (2020.6.20)\n",
      "Requirement already satisfied: idna<3,>=2.5 in c:\\users\\utilisateur\\anaconda3\\lib\\site-packages (from requests<3.0.0,>=2.13.0->spacy->bert-extractive-summarizer) (2.10)\n",
      "Requirement already satisfied: chardet<4,>=3.0.2 in c:\\users\\utilisateur\\anaconda3\\lib\\site-packages (from requests<3.0.0,>=2.13.0->spacy->bert-extractive-summarizer) (3.0.4)\n",
      "Requirement already satisfied: boto3 in c:\\users\\utilisateur\\anaconda3\\lib\\site-packages (from transformers->bert-extractive-summarizer) (1.16.57)\n",
      "Requirement already satisfied: sentencepiece in c:\\users\\utilisateur\\anaconda3\\lib\\site-packages (from transformers->bert-extractive-summarizer) (0.1.95)\n",
      "Requirement already satisfied: sacremoses in c:\\users\\utilisateur\\anaconda3\\lib\\site-packages (from transformers->bert-extractive-summarizer) (0.0.43)\n",
      "Requirement already satisfied: regex in c:\\users\\utilisateur\\anaconda3\\lib\\site-packages (from transformers->bert-extractive-summarizer) (2020.10.15)\n",
      "Requirement already satisfied: jmespath<1.0.0,>=0.7.1 in c:\\users\\utilisateur\\anaconda3\\lib\\site-packages (from boto3->transformers->bert-extractive-summarizer) (0.10.0)\n",
      "Requirement already satisfied: s3transfer<0.4.0,>=0.3.0 in c:\\users\\utilisateur\\anaconda3\\lib\\site-packages (from boto3->transformers->bert-extractive-summarizer) (0.3.4)\n",
      "Requirement already satisfied: botocore<1.20.0,>=1.19.57 in c:\\users\\utilisateur\\anaconda3\\lib\\site-packages (from boto3->transformers->bert-extractive-summarizer) (1.19.57)\n",
      "Requirement already satisfied: python-dateutil<3.0.0,>=2.1 in c:\\users\\utilisateur\\anaconda3\\lib\\site-packages (from botocore<1.20.0,>=1.19.57->boto3->transformers->bert-extractive-summarizer) (2.8.1)\n",
      "Requirement already satisfied: six>=1.5 in c:\\users\\utilisateur\\anaconda3\\lib\\site-packages (from python-dateutil<3.0.0,>=2.1->botocore<1.20.0,>=1.19.57->boto3->transformers->bert-extractive-summarizer) (1.15.0)\n",
      "Requirement already satisfied: click in c:\\users\\utilisateur\\anaconda3\\lib\\site-packages (from sacremoses->transformers->bert-extractive-summarizer) (7.1.2)\n",
      "Installing collected packages: bert-extractive-summarizer\n",
      "Successfully installed bert-extractive-summarizer-0.6.1\n"
     ]
    }
   ],
   "source": [
    "!pip install bert-extractive-summarizer"
   ]
  },
  {
   "cell_type": "code",
   "execution_count": 14,
   "metadata": {},
   "outputs": [
    {
     "output_type": "error",
     "ename": "ImportError",
     "evalue": "cannot import name 'TransformerSummarizer' from 'summarizer' (C:\\Users\\Utilisateur\\anaconda3\\lib\\site-packages\\summarizer\\__init__.py)",
     "traceback": [
      "\u001b[1;31m---------------------------------------------------------------------------\u001b[0m",
      "\u001b[1;31mImportError\u001b[0m                               Traceback (most recent call last)",
      "\u001b[1;32m<ipython-input-14-50eb34d690f4>\u001b[0m in \u001b[0;36m<module>\u001b[1;34m\u001b[0m\n\u001b[1;32m----> 1\u001b[1;33m \u001b[1;32mfrom\u001b[0m \u001b[0msummarizer\u001b[0m \u001b[1;32mimport\u001b[0m \u001b[0mTransformerSummarizer\u001b[0m\u001b[1;33m\u001b[0m\u001b[1;33m\u001b[0m\u001b[0m\n\u001b[0m",
      "\u001b[1;31mImportError\u001b[0m: cannot import name 'TransformerSummarizer' from 'summarizer' (C:\\Users\\Utilisateur\\anaconda3\\lib\\site-packages\\summarizer\\__init__.py)"
     ]
    }
   ],
   "source": [
    "from summarizer import TransformerSummarizer\n"
   ]
  },
  {
   "cell_type": "code",
   "execution_count": null,
   "metadata": {},
   "outputs": [],
   "source": []
  }
 ]
}